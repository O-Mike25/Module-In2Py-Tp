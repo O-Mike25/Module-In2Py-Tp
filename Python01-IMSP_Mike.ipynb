{
 "cells": [
  {
   "cell_type": "markdown",
   "id": "145ce81a",
   "metadata": {},
   "source": [
    "EXERCICE 1"
   ]
  },
  {
   "cell_type": "code",
   "execution_count": 35,
   "id": "5b81e81b",
   "metadata": {},
   "outputs": [
    {
     "name": "stdout",
     "output_type": "stream",
     "text": [
      "entrer un entier 4\n",
      "==============\n",
      "0\n",
      "2\n",
      "resultat: 8\n",
      "==============\n",
      "0\n",
      "2\n",
      "rsultat: 120\n"
     ]
    }
   ],
   "source": [
    "#1) \n",
    "\n",
    "#i)\n",
    "a=0 \n",
    "n=input(\"entrer un entier \")\n",
    "print(\"==============\")\n",
    "n=int(n)\n",
    "for i in range(n):\n",
    "    if i%2 == 0:\n",
    "        print(i)\n",
    "        a +=i+3\n",
    "print(\"resultat:\",a)\n",
    "print(\"==============\")\n",
    "#ii)\n",
    "for i in range(n): \n",
    "    if i%2 == 0:\n",
    "        print(i)\n",
    "        a *=i+3\n",
    "print(\"rsultat:\",a)\n",
    "     \n",
    "\n",
    "    "
   ]
  },
  {
   "cell_type": "code",
   "execution_count": 3,
   "id": "2cadc6b0",
   "metadata": {},
   "outputs": [
    {
     "name": "stdout",
     "output_type": "stream",
     "text": [
      "donnez un entier compris entre 0 et 6 \n",
      "1\n",
      "Mardi\n"
     ]
    }
   ],
   "source": [
    "#2)\n",
    "\n",
    "week=['Lundi','Mardi','Mercredi','Jeudi','Vendredi','Samedi','Dimanche']\n",
    "n=input(\"donnez un entier compris entre 0 et 6 \\n\")\n",
    "n=int(n)\n",
    "while n<0 or n>6 :\n",
    "    n=input(\"donnez un entier compris entre 0 et 6 \\n\")\n",
    "    n=int(n)\n",
    "if n in range(5):\n",
    "    print(week[n])\n",
    "else :\n",
    "    print(\"weekend\")\n"
   ]
  },
  {
   "cell_type": "code",
   "execution_count": 2,
   "id": "5a929133",
   "metadata": {},
   "outputs": [
    {
     "name": "stdout",
     "output_type": "stream",
     "text": [
      "donnez un numero de mois compris entre 0 et 11 \n",
      "11\n",
      "11 : Decembre  a 31 jours\n"
     ]
    }
   ],
   "source": [
    "#3)\n",
    "L1=[0,2,4,6,7,9,11]\n",
    "L2=[3,5,6,8,10]\n",
    "month=['Janvier','Fevrier','Mars','Avril','Mai','Juin','Juiellet','Aout','septembre','Octobre','Novembre','Decembre']\n",
    "num_days=input(\"donnez un numero de mois compris entre 0 et 11 \\n\")\n",
    "num_days=int(num_days)\n",
    "while num_days<0 or num_days>11 :\n",
    "    num_days=input(\"donnez un entier compris entre 0 et 11 \\n\")\n",
    "    num_days=int(num_days)\n",
    "if num_days in L1 :\n",
    "   print(num_days,\":\",month[num_days],\" a 31 jours\")\n",
    "elif num_days in L2 :\n",
    "   print(num_days,\":\",month[num_days],\" a 30 jours\")\n",
    "else :\n",
    "   print(num_days,\":\",month[num_days],\" a 28 jours\")\n",
    "    "
   ]
  },
  {
   "cell_type": "code",
   "execution_count": 2,
   "id": "f937df5a",
   "metadata": {},
   "outputs": [
    {
     "name": "stdout",
     "output_type": "stream",
     "text": [
      "Mike\n",
      "Mike\n",
      "Mike\n",
      "=========\n",
      "Mike\n",
      "Mike\n",
      "Mike\n"
     ]
    }
   ],
   "source": [
    "#4)\n",
    "j=0\n",
    "# version 1 \n",
    "for i in range(3) :\n",
    "    print(\"Mike\")\n",
    "print(\"=========\")\n",
    "#version 2\n",
    "while j<3 :\n",
    "    print(\"Mike\")\n",
    "    j=j+1"
   ]
  },
  {
   "cell_type": "code",
   "execution_count": 7,
   "id": "43b85b39",
   "metadata": {},
   "outputs": [
    {
     "name": "stdout",
     "output_type": "stream",
     "text": [
      "donnez un entier0\n"
     ]
    },
    {
     "ename": "TypeError",
     "evalue": "unsupported operand type(s) for -: 'str' and 'int'",
     "output_type": "error",
     "traceback": [
      "\u001b[0;31m---------------------------------------------------------------------------\u001b[0m",
      "\u001b[0;31mTypeError\u001b[0m                                 Traceback (most recent call last)",
      "\u001b[0;32m<ipython-input-7-4ff585163abf>\u001b[0m in \u001b[0;36m<module>\u001b[0;34m\u001b[0m\n\u001b[1;32m      3\u001b[0m \u001b[0mf\u001b[0m\u001b[0;34m=\u001b[0m\u001b[0;36m0\u001b[0m\u001b[0;34m\u001b[0m\u001b[0;34m\u001b[0m\u001b[0m\n\u001b[1;32m      4\u001b[0m \u001b[0;32mfor\u001b[0m \u001b[0mi\u001b[0m \u001b[0;32min\u001b[0m \u001b[0mrange\u001b[0m\u001b[0;34m(\u001b[0m\u001b[0;36m15\u001b[0m\u001b[0;34m)\u001b[0m\u001b[0;34m:\u001b[0m\u001b[0;34m\u001b[0m\u001b[0;34m\u001b[0m\u001b[0m\n\u001b[0;32m----> 5\u001b[0;31m     \u001b[0mn\u001b[0m\u001b[0;34m=\u001b[0m\u001b[0mn\u001b[0m\u001b[0;34m+\u001b[0m\u001b[0;34m(\u001b[0m\u001b[0mn\u001b[0m\u001b[0;34m-\u001b[0m\u001b[0;36m1\u001b[0m\u001b[0;34m)\u001b[0m\u001b[0;34m\u001b[0m\u001b[0;34m\u001b[0m\u001b[0m\n\u001b[0m\u001b[1;32m      6\u001b[0m     \u001b[0mprint\u001b[0m\u001b[0;34m(\u001b[0m\u001b[0mn\u001b[0m\u001b[0;34m)\u001b[0m\u001b[0;34m\u001b[0m\u001b[0;34m\u001b[0m\u001b[0m\n\u001b[1;32m      7\u001b[0m     \u001b[0mn\u001b[0m\u001b[0;34m=\u001b[0m\u001b[0mn\u001b[0m\u001b[0;34m+\u001b[0m\u001b[0;36m1\u001b[0m\u001b[0;34m\u001b[0m\u001b[0;34m\u001b[0m\u001b[0m\n",
      "\u001b[0;31mTypeError\u001b[0m: unsupported operand type(s) for -: 'str' and 'int'"
     ]
    }
   ],
   "source": [
    "n=input(\"donnez un entier\")\n",
    "int(n)\n",
    "f=0\n",
    "for i in range(15):\n",
    "    n=n+1-(n-1)\n",
    "    print(n)\n",
    "    n=n+1\n",
    "    "
   ]
  },
  {
   "cell_type": "code",
   "execution_count": null,
   "id": "4cdb7cf2",
   "metadata": {},
   "outputs": [],
   "source": []
  }
 ],
 "metadata": {
  "kernelspec": {
   "display_name": "Python 3",
   "language": "python",
   "name": "python3"
  },
  "language_info": {
   "codemirror_mode": {
    "name": "ipython",
    "version": 3
   },
   "file_extension": ".py",
   "mimetype": "text/x-python",
   "name": "python",
   "nbconvert_exporter": "python",
   "pygments_lexer": "ipython3",
   "version": "3.8.5"
  }
 },
 "nbformat": 4,
 "nbformat_minor": 5
}
