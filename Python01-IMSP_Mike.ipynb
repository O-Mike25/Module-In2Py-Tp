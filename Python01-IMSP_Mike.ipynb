{
 "cells": [
  {
   "cell_type": "markdown",
   "id": "2011edec",
   "metadata": {},
   "source": [
    "EXERCICE 1"
   ]
  },
  {
   "cell_type": "code",
   "execution_count": 35,
   "id": "23861fb5",
   "metadata": {},
   "outputs": [
    {
     "name": "stdout",
     "output_type": "stream",
     "text": [
      "entrer un entier 4\n",
      "==============\n",
      "0\n",
      "2\n",
      "resultat: 8\n",
      "==============\n",
      "0\n",
      "2\n",
      "rsultat: 120\n"
     ]
    }
   ],
   "source": [
    "#1) \n",
    "\n",
    "#i)\n",
    "a=0 \n",
    "n=input(\"entrer un entier \")\n",
    "print(\"==============\")\n",
    "n=int(n)\n",
    "for i in range(n):\n",
    "    if i%2 == 0:\n",
    "        print(i)\n",
    "        a +=i+3\n",
    "print(\"resultat:\",a)\n",
    "print(\"==============\")\n",
    "#ii)\n",
    "for i in range(n): \n",
    "    if i%2 == 0:\n",
    "        print(i)\n",
    "        a *=i+3\n",
    "print(\"rsultat:\",a)\n",
    "     \n",
    "\n",
    "    "
   ]
  },
  {
   "cell_type": "code",
   "execution_count": 3,
   "id": "6416e272",
   "metadata": {},
   "outputs": [
    {
     "name": "stdout",
     "output_type": "stream",
     "text": [
      "donnez un entier compris entre 0 et 6 \n",
      "1\n",
      "Mardi\n"
     ]
    }
   ],
   "source": [
    "#2)\n",
    "\n",
    "week=['Lundi','Mardi','Mercredi','Jeudi','Vendredi','Samedi','Dimanche']\n",
    "n=input(\"donnez un entier compris entre 0 et 6 \\n\")\n",
    "n=int(n)\n",
    "while n<0 or n>6 :\n",
    "    n=input(\"donnez un entier compris entre 0 et 6 \\n\")\n",
    "    n=int(n)\n",
    "if n in range(5):\n",
    "    print(week[n])\n",
    "else :\n",
    "    print(\"weekend\")\n"
   ]
  },
  {
   "cell_type": "code",
   "execution_count": null,
   "id": "fd3ab43e",
   "metadata": {},
   "outputs": [],
   "source": [
    "#3)\n",
    "L1=[0,2,4,6,7,9,11]\n",
    "L2=[3,5,6,8,10]\n",
    "month=['Janvier','Fevrier','Mars','Avril','Mai','Juin','Juiellet','Aout','Octobre','Novembre','Decembre']\n",
    "num_days=input(\"donnez un numero de mois compris entre 0 et 11 \\n\")\n",
    "num_days=int(num_days)\n",
    "while num_days<0 or num_days>11 :\n",
    "    num_days=input(\"donnez un entier compris entre 0 et 11 \\n\")\n",
    "    num_days=int(num_days)\n",
    "if num_days in L1 :\n",
    "   print(num_days,\":\",month[num_days],\":\",\"a 31 jours\")\n",
    "elif num_days in L2 :\n",
    "   print(num_days,\":\",month[num_days],\":\",\"a 30 jours\")\n",
    "else :\n",
    "   print(num_days,\":\",month[num_days],\":\",\"a 38 jours\")\n",
    "    "
   ]
  },
  {
   "cell_type": "code",
   "execution_count": null,
   "id": "f7450696",
   "metadata": {},
   "outputs": [],
   "source": []
  }
 ],
 "metadata": {
  "kernelspec": {
   "display_name": "Python 3",
   "language": "python",
   "name": "python3"
  },
  "language_info": {
   "codemirror_mode": {
    "name": "ipython",
    "version": 3
   },
   "file_extension": ".py",
   "mimetype": "text/x-python",
   "name": "python",
   "nbconvert_exporter": "python",
   "pygments_lexer": "ipython3",
   "version": "3.8.5"
  }
 },
 "nbformat": 4,
 "nbformat_minor": 5
}
