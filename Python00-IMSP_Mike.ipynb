{
 "cells": [
  {
   "cell_type": "markdown",
   "id": "265920b6",
   "metadata": {},
   "source": [
    "EXERCICE 1"
   ]
  },
  {
   "cell_type": "code",
   "execution_count": 25,
   "id": "2b5b8fd6",
   "metadata": {},
   "outputs": [],
   "source": [
    "width=17\n",
    "height=12.0\n",
    "delimiter='.'\n",
    "pi = 3.1415926535897931 \n",
    "A  =(4/3)*pi*(5**3)\n",
    "\n",
    "\n",
    "# 1)\n",
    "#  a) width/2        est egale a   8.5 et est de type float\n",
    "#  b) width/2.0      est egale a   8.5 et est de type float\n",
    "#  c) height/3       est egale a   4.0 et est de type float\n",
    "#  d) 1 + 2 * 5      est egale a    11 et est de type int\n",
    "#  b) delimiter * 5  est egale a ..... et est de type str\n",
    "\n",
    "# 2)\n",
    "#  a) le volume d'une sphere de rayon 5 est : 523.5987755982989\n"
   ]
  },
  {
   "cell_type": "markdown",
   "id": "f2939e86",
   "metadata": {},
   "source": [
    "EXERCICE 2"
   ]
  },
  {
   "cell_type": "code",
   "execution_count": null,
   "id": "4dde19fb",
   "metadata": {},
   "outputs": [],
   "source": [
    "i  =1\n",
    "f  =5\n",
    "str=\"ten\"\n",
    " \n",
    " "
   ]
  },
  {
   "cell_type": "code",
   "execution_count": 82,
   "id": "e88549d9",
   "metadata": {},
   "outputs": [
    {
     "name": "stdout",
     "output_type": "stream",
     "text": [
      "1 est de type  <class 'int'>\n",
      "5 est de type  <class 'int'>\n"
     ]
    }
   ],
   "source": [
    "#1) \n",
    "print(i ,\"est de type \",type(i))\n",
    "print(f ,\"est de type \",type(f))\n"
   ]
  },
  {
   "cell_type": "code",
   "execution_count": null,
   "id": "9bf71a2a",
   "metadata": {},
   "outputs": [],
   "source": [
    "#2) les operations possibles pour + sont  (i) (ii) (iii) (v)"
   ]
  },
  {
   "cell_type": "code",
   "execution_count": 91,
   "id": "bbad01da",
   "metadata": {},
   "outputs": [],
   "source": [
    "#3)\n",
    "#a) operation possible pour * sont : (i) (ii) (iii) \n",
    "#b) operation possible pour - sont : (i) (ii) (iii) \n",
    "#c) operation possible pour / sont : (i) (ii) (iii)\n",
    "#d) operation possible pour % sont : (i) (ii) (iii)\n",
    "#e) operation possible pour < sont : (i) (ii) (iii) \n",
    "#f) operation possible pour > sont : (i) (ii) (iii)\n",
    "#g) operation possible pour >= sont : (i) (ii) (iii)\n",
    "#h) operation possible pour <= sont : (i) (ii) (iii)\n",
    "#i) operation possible pour == sont : (i) (ii) (iii) (iv) (v) "
   ]
  }
 ],
 "metadata": {
  "kernelspec": {
   "display_name": "Python 3",
   "language": "python",
   "name": "python3"
  },
  "language_info": {
   "codemirror_mode": {
    "name": "ipython",
    "version": 3
   },
   "file_extension": ".py",
   "mimetype": "text/x-python",
   "name": "python",
   "nbconvert_exporter": "python",
   "pygments_lexer": "ipython3",
   "version": "3.8.5"
  }
 },
 "nbformat": 4,
 "nbformat_minor": 5
}
