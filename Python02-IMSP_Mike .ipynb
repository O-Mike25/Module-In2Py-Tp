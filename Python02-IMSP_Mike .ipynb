{
 "cells": [
  {
   "cell_type": "code",
   "execution_count": 7,
   "id": "0c389c5a",
   "metadata": {},
   "outputs": [
    {
     "name": "stdout",
     "output_type": "stream",
     "text": [
      "Donnez un entier 1\n",
      "Donnez un entier1\n",
      "0.527112989542452\n"
     ]
    }
   ],
   "source": [
    "#1)\n",
    "import math\n",
    "def f(x,y):\n",
    "    return (math.sqrt(x**2 + y))/(1/x + 2*math.sin(y))\n",
    "x=int(input(\"Donnez un entier \"))\n",
    "y=int(input(\"Donnez un entier\"))\n",
    "print(f(x,y))"
   ]
  },
  {
   "cell_type": "code",
   "execution_count": 10,
   "id": "4bf3d0e2",
   "metadata": {},
   "outputs": [
    {
     "name": "stdout",
     "output_type": "stream",
     "text": [
      "64\n"
     ]
    }
   ],
   "source": [
    " 2#)\n",
    "def ownpowerfn(b,n):\n",
    "    return int(math.pow(b,n))\n",
    "print(ownpowerfn(4,3))"
   ]
  },
  {
   "cell_type": "code",
   "execution_count": 20,
   "id": "69143ab4",
   "metadata": {},
   "outputs": [
    {
     "name": "stdout",
     "output_type": "stream",
     "text": [
      "9.0\n",
      "8.94427190999916\n",
      "32.0\n",
      "0.0\n",
      "3.141592653589793\n",
      "180.0\n",
      "25.132741228718345\n",
      "50.26548245743669\n"
     ]
    }
   ],
   "source": [
    "#3)\n",
    "#a)\n",
    "print(\"============\")\n",
    "def arithmetic_mean(x,y):\n",
    "    return (x+y)/2\n",
    "def geometric_mean(x,y):\n",
    "    return math.sqrt(x*y) \n",
    "print(arithmetic_mean(10,8))\n",
    "print(geometric_mean(10,8))\n",
    "\n",
    "#b)\n",
    "print(\"============\")\n",
    "def celcius_to_fahrenheit(x):\n",
    "    return (x*9/5)+32 \n",
    "def fahrenheit_to_celcius(x):\n",
    "    return (x-32)*5/9 \n",
    "print(celcius_to_fahrenheit(0))\n",
    "print(fahrenheit_to_celcius(32))\n",
    "\n",
    "#c)\n",
    "print(\"============\")\n",
    "def degrees_to_radians(x):\n",
    "    return x*math.pi/180\n",
    "def radians_to_degrees(x):\n",
    "    return  x*180/math.pi\n",
    "print(degrees_to_radians(180))\n",
    "print(radians_to_degrees(math.pi))\n",
    "\n",
    "#d)\n",
    "print(\"============\")\n",
    "def circumferences(r):\n",
    "    return 2*math.pi*r\n",
    "def area(r):\n",
    "    return math.pi*r**2\n",
    "print(circumferences(4))\n",
    "print(area(4))\n"
   ]
  },
  {
   "cell_type": "code",
   "execution_count": null,
   "id": "ab5c952b",
   "metadata": {},
   "outputs": [],
   "source": [
    "#4)\n",
    "#a)\n",
    "import math\n",
    "def avggeom(x,y):\n",
    "    avg=(x+y)/2\n",
    "    geom=math.sqrt(x*y)\n",
    "    print(\"average(x,y)=\",avg,\"and\",\"geometrical_mean=\",geom)\n",
    "    return avg,geom\n",
    "\n",
    "\n",
    "\n",
    " \n",
    "\n",
    "#b)\n",
    "def distancefn(x0,x1,y0,y1):\n",
    "    return math.sqrt((x0-x1)**2 +(y0-y1)**2)\n",
    "print(\"donnez les coordonnees du point a\")\n",
    "x1=float(input(\"donnez un entier\"))\n",
    "y1=float(input(\"donnez un entier\"))\n",
    "\n",
    "print(\"donnez les coordonnees du point b\")\n",
    "x2=float(input(\"donnez un entier\"))\n",
    "y2=float(input(\"donnez un entier\"))\n",
    "\n",
    "print(\"donnez les coordonnees du point c\")\n",
    "x3=float(input(\"donnez un entier\"))\n",
    "y3=float(input(\"donnez un entier\"))\n",
    "\n",
    "perimetre= (distancefn(x1,x2,y1,y2)+distancefn(x2,x3,y2,y3)+distancefn(x3,x1,y3,y1))/3\n",
    "print(\"perimetre=\",perimetre)"
   ]
  },
  {
   "cell_type": "code",
   "execution_count": 2,
   "id": "746a510d",
   "metadata": {},
   "outputs": [
    {
     "ename": "SyntaxError",
     "evalue": "invalid syntax (<ipython-input-2-65e1f4ba2c2d>, line 20)",
     "output_type": "error",
     "traceback": [
      "\u001b[0;36m  File \u001b[0;32m\"<ipython-input-2-65e1f4ba2c2d>\"\u001b[0;36m, line \u001b[0;32m20\u001b[0m\n\u001b[0;31m    elif d=0:\u001b[0m\n\u001b[0m          ^\u001b[0m\n\u001b[0;31mSyntaxError\u001b[0m\u001b[0;31m:\u001b[0m invalid syntax\n"
     ]
    }
   ],
   "source": [
    "#5) \n",
    "i\n",
    "def fact2nddeg(x):\n",
    "    if x==1 :\n",
    "        n=type(input(\"donnez un nombre dont vous voulez le factoriel\"))\n",
    "        i=n-1\n",
    "        while i!=0 :\n",
    "            tmp=n*i\n",
    "            c=n*tmp\n",
    "            i=i-1\n",
    "        print(\"le factoriel de\",n,\"est :\",c)\n",
    "    elif x==2:\n",
    "        print (\"donnez les coefficients de votre equationdu second degree\")\n",
    "        a=type(input(\"donnez un nombre\"))\n",
    "        b=type(input(\"donnez un nombre\"))\n",
    "        c=type(input(\"donnez un nombre\"))\n",
    "        d==(b**2-4*a*c)\n",
    "        if d>0:\n",
    "            print(\"votre equation admet deux solution:\", -b-math.sqrt(d)/2*a,-b+math.sqrt(d)/2*a ) \n",
    "        elif d=0:\n",
    "            print(\"votre equation admet une double solution:\",  -b/2*a ) \n",
    "        else \n",
    "            print(\"votre equation admet une solution complexe:\",   ) \n",
    "    else\n",
    "         exit()\n",
    "    \n",
    "print(\"donnez un nombre\")\n",
    "z=int(input(\"donnez un nombre\"))\n",
    "while 1 :\n",
    "    fact2nddeg(z)\n",
    "    "
   ]
  },
  {
   "cell_type": "code",
   "execution_count": null,
   "id": "8ba4342f",
   "metadata": {},
   "outputs": [],
   "source": []
  }
 ],
 "metadata": {
  "kernelspec": {
   "display_name": "Python 3",
   "language": "python",
   "name": "python3"
  },
  "language_info": {
   "codemirror_mode": {
    "name": "ipython",
    "version": 3
   },
   "file_extension": ".py",
   "mimetype": "text/x-python",
   "name": "python",
   "nbconvert_exporter": "python",
   "pygments_lexer": "ipython3",
   "version": "3.8.5"
  }
 },
 "nbformat": 4,
 "nbformat_minor": 5
}
