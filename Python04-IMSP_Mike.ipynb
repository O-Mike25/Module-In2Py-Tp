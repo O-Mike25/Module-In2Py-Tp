{
 "cells": [
  {
   "cell_type": "code",
   "execution_count": 11,
   "id": "272b9eca",
   "metadata": {},
   "outputs": [
    {
     "name": "stdout",
     "output_type": "stream",
     "text": [
      " 1-Ajouter nouveaux produit\n",
      " 2-Modifier infos produits\n",
      " 3-Consulter prix produit\n",
      "\n",
      "Choisissez le numero correspondant a l'action que vous voulez effectue\n",
      "4\n",
      "{}\n"
     ]
    }
   ],
   "source": [
    "#) 1\n",
    "def product(product):\n",
    "    k=0\n",
    "    print(\" 1-Ajouter nouveaux produit\\n 2-Modifier infos produits\\n 3-Consulter prix produit\\n\")\n",
    "    j=int(input(\"Choisissez le numero correspondant a l'action que vous voulez effectue\\n\")) \n",
    "    if j==1 :\n",
    "        p_name=input(\"donnez le nom de votre produits: \");\n",
    "        price=int(input(\"donnez son prix: \"))\n",
    "        product[p_name]=price\n",
    "        return product\n",
    "    elif j==2 :\n",
    "        print(\"donnez le nom du produit dont vous voulez modifier le prix\\n\")\n",
    "        p_name=input(\"donnez le nom de votre produits:\\n \");\n",
    "        for i in product.keys():\n",
    "            if i==p_name :\n",
    "                k=1\n",
    "        if k!=1 :     \n",
    "            print (\"ce produit n'existe pas \\n\")\n",
    "            return -1\n",
    "        price=int(input(\"donnez son nouveau prix: \"))\n",
    "        product[p_name]=price\n",
    "        return product\n",
    "    elif  j==3 :\n",
    "        print(\"donnez le nom du produit dont vous voulez consulter le prix\\n\")\n",
    "        p_name=input(\"donnez le nom de votre produits:\\n \");\n",
    "        for i in product.keys():\n",
    "            if i==p_name :\n",
    "                k=1\n",
    "        if k!=1 :\n",
    "            print (\"ce produit n'existe pas \\n\")\n",
    "            return -1\n",
    "        print(product[p_name])\n",
    "        return product\n",
    "    else :\n",
    "        print(product)\n",
    "\n",
    "product1={}\n",
    "product(product1)\n"
   ]
  },
  {
   "cell_type": "code",
   "execution_count": null,
   "id": "d64d86e7",
   "metadata": {},
   "outputs": [],
   "source": [
    "#) 2\n",
    "phone={}\n",
    "def manaj_t(dict):\n",
    "    print(\"1-Ajoutez un telephone\\n 2-chercher un telephone\\n 3-chercher un utilisateur\\n 4-afficher la liste de tout les telephones\")\n",
    "    j=input(\"donnez un nombre\")\n",
    "    if j==1 :\n",
    "        user=input(\"nom de l'utilisateur \")\n",
    "        phone=input(\"nom du telephone \")\n",
    "        dict[user]=phone\n",
    "        return dict\n",
    "    elif j==2 :\n",
    "        user=input(\"nom de l'utilisateur \")\n",
    "        return dict.get(user)\n",
    "    elif j==3:\n",
    "        phone=input(\"nom du telephone \")\n",
    "        for i in dict :\n",
    "            if user[i]==phone:\n",
    "                return i\n",
    "    elif j==4:\n",
    "        for i in dict :\n",
    "            print(dict[i],\"\\n\")\n",
    "        \n",
    "        \n",
    "        \n",
    "    "
   ]
  },
  {
   "cell_type": "code",
   "execution_count": null,
   "id": "4fcc3682",
   "metadata": {},
   "outputs": [],
   "source": [
    "#3) \n",
    "def lmap (list):\n",
    "    buffer=[]\n",
    "    j=0\n",
    "    for i in list:\n",
    "        buffer[j]= len(i)\n",
    "        j=j+1\n",
    "    return j    \n"
   ]
  },
  {
   "cell_type": "code",
   "execution_count": null,
   "id": "aafa90f1",
   "metadata": {},
   "outputs": [],
   "source": [
    "#4)\n",
    "def finf_longest_word(list):\n",
    "    max=0\n",
    "    for i in list :\n",
    "        if len(i)>max:\n",
    "            max=len(i)\n",
    "    return max"
   ]
  },
  {
   "cell_type": "code",
   "execution_count": 3,
   "id": "eef3f596",
   "metadata": {},
   "outputs": [
    {
     "name": "stdout",
     "output_type": "stream",
     "text": [
      " merry christmas and happy new year  in sweddish is   god jul och gott nytt ar\n"
     ]
    }
   ],
   "source": [
    "#5)\n",
    "def translate(dict):\n",
    "    eng=\"\"\n",
    "    swd=\"\"\n",
    "    for i in dict:\n",
    "        eng=eng+\" \"+i\n",
    "    for i in dict:\n",
    "        swd=swd+\" \"+dict[i]\n",
    "    print(eng,\" in sweddish is \",swd)\n",
    "    \n",
    "dict={\"merry\":\"god\", \"christmas\":\"jul\", \"and\":\"och\", \"happy\":\"gott\", \"new\":\"nytt\", \"year\":\"ar\"}\n",
    "translate(dict)"
   ]
  },
  {
   "cell_type": "code",
   "execution_count": 3,
   "id": "54e4bcc4",
   "metadata": {},
   "outputs": [
    {
     "name": "stdout",
     "output_type": "stream",
     "text": [
      "False\n"
     ]
    }
   ],
   "source": [
    "#6)\n",
    "def ismember(x,list):\n",
    "    j=0\n",
    "    l=len(list)\n",
    "    while l!=0 :\n",
    "        if list[l-1]==x :\n",
    "            return True\n",
    "        l=l-1\n",
    "    return False    \n",
    "print(ismember(4,[0,7,6]))\n",
    "    "
   ]
  },
  {
   "cell_type": "code",
   "execution_count": 7,
   "id": "34ab72fd",
   "metadata": {},
   "outputs": [
    {
     "name": "stdout",
     "output_type": "stream",
     "text": [
      "****\n",
      "*****\n"
     ]
    }
   ],
   "source": [
    "#7)\n",
    "def histogramm(list):\n",
    "    for i in list:\n",
    "        print(i*\"*\")\n",
    "        i=i-1\n",
    "histogramm([4,5])"
   ]
  },
  {
   "cell_type": "code",
   "execution_count": 8,
   "id": "1a3c8f81",
   "metadata": {},
   "outputs": [
    {
     "name": "stdout",
     "output_type": "stream",
     "text": [
      "Amour [90.0, 97.0, 75.0, 92.0] [88.0, 40.0, 94.0] [75.0, 90.0] /n\n",
      "Paix [100.0, 92.0, 98.0, 100.0] [82.0, 83.0, 91.0] [89.0, 97.0] /n\n",
      "Foi [0.0, 87.0, 75.0, 22.0] [0.0, 75.0, 78.0] [100.0, 100.0] /n\n",
      "4.0\n"
     ]
    }
   ],
   "source": [
    "#8) \n",
    "Amour = {\n",
    "\"name\": \"Amour\",\n",
    "\"homework\": [90.0,97.0,75.0,92.0],\n",
    "\"quizzes\": [88.0,40.0,94.0],\n",
    "\"tests\": [75.0,90.0]\n",
    "}\n",
    "Paix = {\n",
    "\"name\": \"Paix\",\n",
    "\"homework\": [100.0, 92.0, 98.0, 100.0],\n",
    "\"quizzes\": [82.0, 83.0, 91.0],\n",
    "\"tests\": [89.0, 97.0]\n",
    "}\n",
    "Foi = {\n",
    "\"name\": \"Foi\",\n",
    "\"homework\": [0.0, 87.0, 75.0, 22.0],\n",
    "\"quizzes\": [0.0, 75.0, 78.0],\n",
    "\"tests\": [100.0, 100.0]\n",
    "}\n",
    "\n",
    "students=[Amour,Paix,Foi]\n",
    "for i in students:\n",
    "    print(i['name'],i['homework'],i['quizzes'],i['tests'],\"/n\")\n",
    " \n",
    " \n",
    "    \n",
    "    \n",
    "def Average(list):\n",
    "    total=sum(list)\n",
    "    return total/len(list)\n",
    "print(Average([4,3,5]))\n",
    "    \n",
    "    \n",
    "    "
   ]
  },
  {
   "cell_type": "code",
   "execution_count": null,
   "id": "0904b7e4",
   "metadata": {},
   "outputs": [],
   "source": []
  }
 ],
 "metadata": {
  "kernelspec": {
   "display_name": "Python 3",
   "language": "python",
   "name": "python3"
  },
  "language_info": {
   "codemirror_mode": {
    "name": "ipython",
    "version": 3
   },
   "file_extension": ".py",
   "mimetype": "text/x-python",
   "name": "python",
   "nbconvert_exporter": "python",
   "pygments_lexer": "ipython3",
   "version": "3.8.5"
  }
 },
 "nbformat": 4,
 "nbformat_minor": 5
}
